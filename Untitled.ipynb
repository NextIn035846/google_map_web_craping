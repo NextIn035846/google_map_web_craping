{
 "cells": [
  {
   "cell_type": "code",
   "execution_count": 6,
   "metadata": {},
   "outputs": [],
   "source": [
    "from selenium import webdriver\n",
    "from selenium.webdriver.common.by import By\n",
    "from selenium.webdriver.support.ui import WebDriverWait\n",
    "from selenium.webdriver.support import expected_conditions as EC\n",
    "from selenium.webdriver.chrome.options import Options\n",
    "from selenium.webdriver.common.action_chains import ActionChains\n",
    "import time\n"
   ]
  },
  {
   "cell_type": "code",
   "execution_count": 46,
   "metadata": {},
   "outputs": [],
   "source": [
    "class WebDriver:\n",
    "    location_data = {}\n",
    "    \n",
    "    def __init__(self):\n",
    "        self.PATH = 'chromedriver.exe'\n",
    "        self.options = Options()\n",
    "        self.options.add_argument('--lang=en')\n",
    "        self.driver = webdriver.Chrome(self.PATH,options=self.options)\n",
    "        \n",
    "        # What data we Wont to store\n",
    "        self.location_data['name'] = 'NA'\n",
    "        self.location_data['rating']= 'NA'\n",
    "        self.location_data['reviews_count']= 'NA'\n",
    "        self.location_data['location'] = 'NA'\n",
    "        self.location_data['contact']= 'NA'\n",
    "        self.location_data['website']= 'NA'\n",
    "       \n",
    "    \n",
    "    def get_location_data(self):\n",
    "        try:\n",
    "            name = self.driver.find_element_by_class_name('x3AX1-LfntMc-header-title-ij8cu')\n",
    "            \n",
    "            avg_rating = self.driver.find_element_by_class_name('aMPvhf-fI6EEc-KVuj8d')\n",
    "            total_reviews = self.driver.find_element_by_class_name('widget-pane-link')\n",
    "            address = self.driver.find_element_by_css_selector(\"[data-item-id='address']\")\n",
    "            phone_number = self.driver.find_element_by_css_selector(\"[data-tooltip='Copy phone number']\")\n",
    "            website = self.driver.find_element_by_css_selector(\"[data-item-id='authority']\")\n",
    "        except:\n",
    "            pass\n",
    "    \n",
    "        try:\n",
    "            self.location_data['name'] = name.text.split('\\n')[0]\n",
    "            self.location_data['rating']= avg_rating.text\n",
    "            self.location_data['reviews_count']= total_reviews.text[0:-1]\n",
    "            self.location_data['location'] = address.text\n",
    "            self.location_data['contact'] = phone_number.text\n",
    "            self.location_data['website'] = website.text\n",
    "        except:\n",
    "            pass\n",
    "    \n",
    "    def scrape(self, url): # Passed the URL as a variable\n",
    "        try:\n",
    "            self.driver.get(url) # Get is a method that will tell the driver to open at that particular URL\n",
    "\n",
    "        except Exception as e:\n",
    "            self.driver.quit()\n",
    "            return\n",
    "\n",
    "        time.sleep(10) # Waiting for the page to load.\n",
    "\n",
    "\n",
    "        self.get_location_data() # Calling the function to get all the location data.\n",
    "\n",
    "\n",
    "\n",
    "\n",
    "        return(self.location_data)\n",
    "\n",
    "p1 = WebDriver()\n",
    "location = p1.scrape('https://www.google.com/maps/place/SPJ+Embedded+Technologies+Pvt.+Ltd./@18.5195847,73.8143092,17z/data=!4m9!1m2!2m1!1scompanys!3m5!1s0x3bc2bfa3ac000001:0x73ee40d187c960c4!8m2!3d18.5195729!4d73.8165425!15sCgdjb21wYW55kgEQc29mdHdhcmVfY29tcGFueQ')\n",
    "    "
   ]
  },
  {
   "cell_type": "code",
   "execution_count": 47,
   "metadata": {},
   "outputs": [
    {
     "data": {
      "text/plain": [
       "{'name': 'SPJ Embedded Technologies Pvt. Ltd.',\n",
       " 'rating': '3.7',\n",
       " 'reviews_count': '13 review',\n",
       " 'location': 'Survey No. 124/12A, 2nd Floor, Mulik Baug, Opp. Swapnapurti Hall, Near MIT College, Kothrud, Pune, Maharashtra 411038',\n",
       " 'contact': '',\n",
       " 'website': 'spjsystems.com'}"
      ]
     },
     "execution_count": 47,
     "metadata": {},
     "output_type": "execute_result"
    }
   ],
   "source": [
    "location"
   ]
  },
  {
   "cell_type": "code",
   "execution_count": 27,
   "metadata": {},
   "outputs": [
    {
     "name": "stderr",
     "output_type": "stream",
     "text": [
      "<ipython-input-27-df37070a453a>:2: DeprecationWarning: Call to deprecated function get_sheet_names (Use wb.sheetnames).\n",
      "  sheetname = wb.get_sheet_names()[0]\n"
     ]
    }
   ],
   "source": [
    "wb = openpyxl.load_workbook('companies.xlsx')\n",
    "sheetname = wb.get_sheet_names()[0]\n",
    "sheet = wb[sheetname]\n",
    "sheet.title = \"companies\""
   ]
  },
  {
   "cell_type": "code",
   "execution_count": 48,
   "metadata": {},
   "outputs": [],
   "source": [
    "sheet[\"A1\"] = \"Name\"\n",
    "sheet[\"B1\"] = \"Rating\"\n",
    "sheet[\"C1\"] = \"Reviews_count\"\n",
    "sheet[\"D1\"] = \"Location\"\n",
    "sheet[\"E1\"] = \"Contact\"\n",
    "sheet[\"F1\"] = \" Website\"\n",
    "sheet.append(list(location.values()))\n",
    "wb.save(\"companies.xlsx\")"
   ]
  },
  {
   "cell_type": "code",
   "execution_count": null,
   "metadata": {},
   "outputs": [],
   "source": []
  },
  {
   "cell_type": "code",
   "execution_count": 1,
   "metadata": {},
   "outputs": [],
   "source": [
    "\n",
    "#Importing libraries \n",
    "from selenium import webdriver\n",
    "from selenium.webdriver.common.by import By\n",
    "from selenium.webdriver.common.keys import Keys\n",
    "from selenium.webdriver.support.ui import WebDriverWait\n",
    "from selenium.webdriver.support.expected_conditions import presence_of_element_located\n",
    "from selenium.common.exceptions import NoSuchElementException\n",
    "import time \n",
    "import string\n",
    "import openpyxl\n",
    "import os"
   ]
  },
  {
   "cell_type": "code",
   "execution_count": 4,
   "metadata": {},
   "outputs": [],
   "source": [
    "# loading selenium webdriver\n",
    "driver = webdriver.Chrome()\n",
    "wait= WebDriverWait(driver,5)\n",
    "#Opning google map\n",
    "driver.get(\"https://www.google.com/maps\")\n",
    "time.sleep(3)\n",
    "\n",
    "#driver.switch_to_default_content()\n",
    "searchbox= driver.find_element_by_id(\"searchboxinput\")\n",
    "location = 'Restaurants'\n",
    "searchbox.send_keys(location)\n",
    "searchbox.send_keys(Keys.ENTER)\n",
    "time.sleep(2)"
   ]
  },
  {
   "cell_type": "code",
   "execution_count": null,
   "metadata": {},
   "outputs": [],
   "source": []
  }
 ],
 "metadata": {
  "kernelspec": {
   "display_name": "Python 3",
   "language": "python",
   "name": "python3"
  },
  "language_info": {
   "codemirror_mode": {
    "name": "ipython",
    "version": 3
   },
   "file_extension": ".py",
   "mimetype": "text/x-python",
   "name": "python",
   "nbconvert_exporter": "python",
   "pygments_lexer": "ipython3",
   "version": "3.8.2"
  }
 },
 "nbformat": 4,
 "nbformat_minor": 4
}
